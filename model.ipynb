{
 "cells": [
  {
   "cell_type": "code",
   "execution_count": 1,
   "metadata": {},
   "outputs": [
    {
     "name": "stderr",
     "output_type": "stream",
     "text": [
      "Using TensorFlow backend.\n"
     ]
    },
    {
     "name": "stdout",
     "output_type": "stream",
     "text": [
      "Done importing\n"
     ]
    }
   ],
   "source": [
    "import csv\n",
    "import cv2\n",
    "import numpy as np\n",
    "import pickle\n",
    "import matplotlib.pyplot as plt\n",
    "import random\n",
    "from sklearn.utils import shuffle\n",
    "from sklearn.model_selection import train_test_split\n",
    "\n",
    "import keras\n",
    "from keras.models import Sequential, load_model\n",
    "from keras.layers import Flatten, Dense, Lambda, Cropping2D\n",
    "from keras.layers.convolutional import Convolution2D\n",
    "from keras.layers.pooling import MaxPooling2D\n",
    "\n",
    "print('Done importing')"
   ]
  },
  {
   "cell_type": "code",
   "execution_count": 2,
   "metadata": {},
   "outputs": [
    {
     "name": "stdout",
     "output_type": "stream",
     "text": [
      "===== PARAMETERS =====\n",
      "\n",
      "Batch Size:  24\n"
     ]
    }
   ],
   "source": [
    "# Parameters\n",
    "BATCH_SIZE=24\n",
    "\n",
    "print(\"===== PARAMETERS =====\")\n",
    "print()\n",
    "print(\"Batch Size: \", BATCH_SIZE)"
   ]
  },
  {
   "cell_type": "code",
   "execution_count": 3,
   "metadata": {},
   "outputs": [
    {
     "name": "stdout",
     "output_type": "stream",
     "text": [
      "Training Set Sample Size = 6428\n",
      "Validation Set Sample Size = 1608\n"
     ]
    }
   ],
   "source": [
    "samples = []\n",
    "with open('./data/driving_log.csv', 'rt', encoding='utf8') as csvfile:\n",
    "  reader = csv.DictReader(csvfile)\n",
    "  for row in reader:\n",
    "        samples.append(row)\n",
    "\n",
    "train_samples, validation_samples = train_test_split(samples, test_size=0.2)\n",
    "print('Training Set Sample Size = {}'.format(len(train_samples)))\n",
    "print('Validation Set Sample Size = {}'.format(len(validation_samples)))"
   ]
  },
  {
   "cell_type": "code",
   "execution_count": 4,
   "metadata": {
    "collapsed": true
   },
   "outputs": [],
   "source": [
    "def get_image_from_filename(filename):\n",
    "    data_path = './data/' + filename\n",
    "    bgr_image = cv2.imread(data_path)\n",
    "    rgb_image = cv2.cvtColor(bgr_image, cv2.COLOR_BGR2RGB)\n",
    "    return rgb_image"
   ]
  },
  {
   "cell_type": "code",
   "execution_count": 5,
   "metadata": {
    "collapsed": true
   },
   "outputs": [],
   "source": [
    "def flip(image, measurement):\n",
    "    flipped_image = cv2.flip(image,1)\n",
    "    flipped_measurement = -1.0 * measurement\n",
    "    return flipped_image, flipped_measurement"
   ]
  },
  {
   "cell_type": "code",
   "execution_count": 6,
   "metadata": {
    "collapsed": true
   },
   "outputs": [],
   "source": [
    "def generator(samples, batch_size=BATCH_SIZE):\n",
    "    num_samples = len(samples)\n",
    "    while 1: # Loop forever so the generator never terminates\n",
    "        shuffle(samples)\n",
    "        for offset in range(0, num_samples, batch_size):\n",
    "            batch_samples = samples[offset:offset+batch_size]\n",
    "            \n",
    "            images = []\n",
    "            measurements = []\n",
    "            for batch_sample in batch_samples:\n",
    "                center_image_filename = batch_sample['center'].lstrip()\n",
    "                left_image_filename = batch_sample['left'].lstrip()\n",
    "                right_image_filename = batch_sample['right'].lstrip()\n",
    "                \n",
    "                center_image = get_image_from_filename(center_image_filename)\n",
    "                left_image = get_image_from_filename(left_image_filename)\n",
    "                right_image = get_image_from_filename(right_image_filename)\n",
    "                \n",
    "                center_steering = float(batch_sample['steering'])\n",
    "                # create adjusted steering measurements for the side camera images\n",
    "                correction = 0.2\n",
    "                left_steering = center_steering + correction\n",
    "                right_steering = center_steering - correction\n",
    "                \n",
    "                # Augment data by flipping the images and steering measurements\n",
    "                center_image_flipped, center_steering_flipped = flip(center_image, center_steering)\n",
    "                left_image_flipped, left_steering_flipped = flip(left_image, left_steering)\n",
    "                right_image_flipped, right_steering_flipped = flip(right_image, right_steering)\n",
    "\n",
    "                images.extend([center_image, left_image, right_image, center_image_flipped, left_image_flipped, right_image_flipped])\n",
    "                measurements.extend([center_steering, left_steering, right_steering, center_steering_flipped, left_steering_flipped, right_steering_flipped])\n",
    "                \n",
    "            X_train = np.array(images)\n",
    "            y_train = np.array(measurements)\n",
    "            yield shuffle(X_train, y_train)\n",
    "            \n",
    "train_generator = generator(train_samples, batch_size=BATCH_SIZE)\n",
    "validation_generator = generator(validation_samples, batch_size=BATCH_SIZE)"
   ]
  },
  {
   "cell_type": "code",
   "execution_count": 7,
   "metadata": {},
   "outputs": [
    {
     "name": "stdout",
     "output_type": "stream",
     "text": [
      "Epoch 1/5\n",
      "38568/38568 [==============================] - 80s - loss: 0.0193 - val_loss: 0.0181\n",
      "Epoch 2/5\n",
      "38568/38568 [==============================] - 71s - loss: 0.0162 - val_loss: 0.0161\n",
      "Epoch 3/5\n",
      "38568/38568 [==============================] - 71s - loss: 0.0154 - val_loss: 0.0162\n",
      "Epoch 4/5\n",
      "38568/38568 [==============================] - 71s - loss: 0.0145 - val_loss: 0.0155\n",
      "Epoch 5/5\n",
      "38568/38568 [==============================] - 71s - loss: 0.0138 - val_loss: 0.0152\n"
     ]
    }
   ],
   "source": [
    "model = Sequential()\n",
    "model.add(Lambda(lambda x: x / 255.0 - 0.5, input_shape=(160,320,3)))\n",
    "# Cropping 70 pixels from the top and 25 pixels from the bottom\n",
    "model.add(Cropping2D(cropping=((70,25),(0,0))))\n",
    "model.add(Convolution2D(24, 5, 5, subsample=(2,2), activation='relu'))\n",
    "model.add(Convolution2D(36, 5, 5, subsample=(2,2), activation='relu'))\n",
    "model.add(Convolution2D(48, 5, 5, subsample=(2,2), activation='relu'))\n",
    "model.add(Convolution2D(64, 3, 3, activation='relu'))\n",
    "model.add(Convolution2D(64, 3, 3, activation='relu'))\n",
    "model.add(Flatten())\n",
    "model.add(Dense(100)) \n",
    "model.add(Dense(50)) \n",
    "model.add(Dense(10)) \n",
    "model.add(Dense(1)) \n",
    "\n",
    "model.compile(loss='mse', optimizer='adam')\n",
    "history_object = model.fit_generator(train_generator, samples_per_epoch=6*len(train_samples), \n",
    "                    validation_data=validation_generator, nb_val_samples=6*len(validation_samples), \n",
    "                    nb_epoch=5)\n",
    "\n",
    "model.save('model.h5')"
   ]
  },
  {
   "cell_type": "code",
   "execution_count": null,
   "metadata": {},
   "outputs": [],
   "source": [
    "print(history_object.history.keys())\n",
    "\n",
    "plt.plot(history_object.history['loss'])\n",
    "plt.plot(history_object.history['val_loss'])\n",
    "plt.title('Model Mean Squared Error Loss')\n",
    "plt.ylabel('Mean Sqaured Error Loss')\n",
    "plt.xlabel('Epoch')\n",
    "plt.legend(['Training Set', 'Validation Set'], loc='upper right')\n",
    "plt.show()"
   ]
  },
  {
   "cell_type": "code",
   "execution_count": null,
   "metadata": {
    "collapsed": true
   },
   "outputs": [],
   "source": []
  }
 ],
 "metadata": {
  "kernelspec": {
   "display_name": "Python 3",
   "language": "python",
   "name": "python3"
  },
  "language_info": {
   "codemirror_mode": {
    "name": "ipython",
    "version": 3
   },
   "file_extension": ".py",
   "mimetype": "text/x-python",
   "name": "python",
   "nbconvert_exporter": "python",
   "pygments_lexer": "ipython3",
   "version": "3.5.2"
  },
  "widgets": {
   "state": {},
   "version": "1.1.2"
  }
 },
 "nbformat": 4,
 "nbformat_minor": 2
}
