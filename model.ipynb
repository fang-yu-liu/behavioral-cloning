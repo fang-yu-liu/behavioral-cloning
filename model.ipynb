{
 "cells": [
  {
   "cell_type": "code",
   "execution_count": 1,
   "metadata": {},
   "outputs": [
    {
     "name": "stderr",
     "output_type": "stream",
     "text": [
      "Using TensorFlow backend.\n"
     ]
    },
    {
     "name": "stdout",
     "output_type": "stream",
     "text": [
      "Done importing\n"
     ]
    }
   ],
   "source": [
    "import pickle\n",
    "import keras\n",
    "from keras.models import Sequential\n",
    "from keras.layers import Flatten, Dense, Lambda\n",
    "from keras.layers.convolutional import Convolution2D\n",
    "from keras.layers.pooling import MaxPooling2D\n",
    "\n",
    "print('Done importing')"
   ]
  },
  {
   "cell_type": "code",
   "execution_count": 2,
   "metadata": {},
   "outputs": [
    {
     "name": "stdout",
     "output_type": "stream",
     "text": [
      "Done data loading\n"
     ]
    }
   ],
   "source": [
    "# Load data from file\n",
    "training_data_file = './train_aug.p'\n",
    "with open(training_data_file, mode='rb') as f:\n",
    "  train = pickle.load(f)\n",
    "\n",
    "X_train, y_train = train['features'], train['labels']\n",
    "print('Done data loading')"
   ]
  },
  {
   "cell_type": "code",
   "execution_count": null,
   "metadata": {},
   "outputs": [
    {
     "name": "stdout",
     "output_type": "stream",
     "text": [
      "Train on 12857 samples, validate on 3215 samples\n",
      "Epoch 1/7\n",
      "12857/12857 [==============================] - 49s - loss: 2.6208 - val_loss: 0.0130\n",
      "Epoch 2/7\n",
      "12857/12857 [==============================] - 44s - loss: 0.0131 - val_loss: 0.0116oss: 0.\n",
      "Epoch 3/7\n",
      "12857/12857 [==============================] - 44s - loss: 0.0118 - val_loss: 0.0107s: 0 - ETA: 8s - loss: 0.011  - ETA: 3 - ETA: 2s - loss: 0.0 - ET\n",
      "Epoch 4/7\n",
      "12857/12857 [==============================] - 44s - loss: 0.0108 - val_loss: 0.0101s - ETA: 2s - loss: 0.010 - E\n",
      "Epoch 5/7\n",
      "12857/12857 [==============================] - 44s - loss: 0.0100 - val_loss: 0.0096\n",
      "Epoch 6/7\n",
      "12857/12857 [==============================] - 44s - loss: 0.0093 - val_loss: 0.0093\n",
      "Epoch 7/7\n",
      " 2208/12857 [====>.........................] - ETA: 33s - loss: 0.0076 ETA: 37s - lo - E"
     ]
    }
   ],
   "source": [
    "model = Sequential()\n",
    "model.add(Lambda(lambda x: x / 255.0 - 0.5, input_shape=(160,320,3)))\n",
    "model.add(Convolution2D(6, 5, 5, activation='relu'))\n",
    "model.add(MaxPooling2D())\n",
    "model.add(Convolution2D(6, 5, 5, activation='relu'))\n",
    "model.add(MaxPooling2D())\n",
    "model.add(Flatten())\n",
    "model.add(Dense(120)) \n",
    "model.add(Dense(84)) \n",
    "model.add(Dense(1)) \n",
    "\n",
    "\n",
    "model.compile(loss='mse', optimizer='adam')\n",
    "model.fit(X_train, y_train, validation_split=0.2, shuffle=True, nb_epoch=7)\n",
    "        \n",
    "model.save('model.h5')"
   ]
  },
  {
   "cell_type": "code",
   "execution_count": null,
   "metadata": {
    "collapsed": true
   },
   "outputs": [],
   "source": []
  }
 ],
 "metadata": {
  "kernelspec": {
   "display_name": "Python 3",
   "language": "python",
   "name": "python3"
  },
  "language_info": {
   "codemirror_mode": {
    "name": "ipython",
    "version": 3
   },
   "file_extension": ".py",
   "mimetype": "text/x-python",
   "name": "python",
   "nbconvert_exporter": "python",
   "pygments_lexer": "ipython3",
   "version": "3.5.2"
  },
  "widgets": {
   "state": {},
   "version": "1.1.2"
  }
 },
 "nbformat": 4,
 "nbformat_minor": 2
}
